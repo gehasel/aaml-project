{
 "cells": [
  {
   "cell_type": "code",
   "execution_count": null,
   "metadata": {},
   "outputs": [],
   "source": [
    "import os\n",
    "\n",
    "import tensorflow as tf\n",
    "import tensorflow_hub as hub\n",
    "\n",
    "import pandas as pd\n",
    "import numpy as np\n",
    "from sklearn.model_selection import train_test_split"
   ]
  },
  {
   "cell_type": "code",
   "execution_count": null,
   "metadata": {},
   "outputs": [],
   "source": [
    "dataset_dir = tf.keras.utils.get_file(\"sms-spam-collection\", \n",
    "                                    origin=\"https://archive.ics.uci.edu/ml/machine-learning-databases/00228/smsspamcollection.zip\",\n",
    "                                    extract=True,\n",
    "                                    cache_dir='.',\n",
    "                                    cache_subdir='./datasets/SMSSpamCollection')\n",
    "\n",
    "path_to_dataset = os.path.join(os.path.dirname(dataset_dir), 'SMSSpamCollection')"
   ]
  }
 ],
 "metadata": {
  "language_info": {
   "name": "python"
  },
  "orig_nbformat": 4
 },
 "nbformat": 4,
 "nbformat_minor": 2
}
