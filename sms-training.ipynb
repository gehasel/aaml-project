{
 "cells": [
  {
   "cell_type": "code",
   "execution_count": null,
   "metadata": {},
   "outputs": [],
   "source": [
    "import os\n",
    "\n",
    "import tensorflow as tf\n",
    "import tensorflow_hub as hub\n",
    "\n",
    "import pandas as pd\n",
    "import numpy as np\n",
    "from sklearn.model_selection import train_test_split\n"
   ]
  },
  {
   "cell_type": "code",
   "execution_count": null,
   "metadata": {},
   "outputs": [],
   "source": [
    "dataset_dir = tf.keras.utils.get_file(\"sms-spam-collection\",\n",
    "                                      origin=\"https://archive.ics.uci.edu/ml/machine-learning-databases/00228/smsspamcollection.zip\",\n",
    "                                      extract=True,\n",
    "                                      cache_dir='.',\n",
    "                                      cache_subdir='./datasets/SMSSpamCollection')\n",
    "\n",
    "path_to_dataset = os.path.join(\n",
    "    os.path.dirname(dataset_dir), 'SMSSpamCollection')\n"
   ]
  },
  {
   "cell_type": "code",
   "execution_count": null,
   "metadata": {},
   "outputs": [],
   "source": [
    "data = pd.read_table(path_to_dataset, names=['class', 'text'])\n",
    "def map_to_numbers(label): return 1 if label == 'spam' else 0\n",
    "\n",
    "\n",
    "data['spam'] = data['class'].apply(map_to_numbers)\n",
    "data.head()\n"
   ]
  },
  {
   "cell_type": "code",
   "execution_count": null,
   "metadata": {},
   "outputs": [],
   "source": [
    "x_train, x_test, y_train, y_test = train_test_split(\n",
    "    data['text'], data['spam'], test_size=0.2, stratify=data['class'])\n",
    "x_train.head()\n"
   ]
  }
 ],
 "metadata": {
  "language_info": {
   "name": "python"
  },
  "orig_nbformat": 4
 },
 "nbformat": 4,
 "nbformat_minor": 2
}
