{
 "cells": [
  {
   "cell_type": "code",
   "execution_count": 16,
   "metadata": {},
   "outputs": [
    {
     "name": "stdout",
     "output_type": "stream",
     "text": [
      "Requirement already satisfied: tensorflow in /home/m/mekadmini/.local/lib/python3.8/site-packages (2.12.0)\n",
      "Requirement already satisfied: tensorflow_hub in /home/m/mekadmini/.local/lib/python3.8/site-packages (0.13.0)\n",
      "Requirement already satisfied: tensorflow_text in /home/m/mekadmini/.local/lib/python3.8/site-packages (2.12.0)\n",
      "Requirement already satisfied: packaging in /usr/lib/python3/dist-packages (from tensorflow) (20.3)\n",
      "Requirement already satisfied: six>=1.12.0 in /usr/lib/python3/dist-packages (from tensorflow) (1.14.0)\n",
      "Collecting numpy<1.24,>=1.22\n",
      "  Using cached numpy-1.23.5-cp38-cp38-manylinux_2_17_x86_64.manylinux2014_x86_64.whl (17.1 MB)\n",
      "Requirement already satisfied: typing-extensions>=3.6.6 in /home/m/mekadmini/.local/lib/python3.8/site-packages (from tensorflow) (4.5.0)\n",
      "Requirement already satisfied: keras<2.13,>=2.12.0 in /home/m/mekadmini/.local/lib/python3.8/site-packages (from tensorflow) (2.12.0)\n",
      "Requirement already satisfied: libclang>=13.0.0 in /home/m/mekadmini/.local/lib/python3.8/site-packages (from tensorflow) (16.0.0)\n",
      "Requirement already satisfied: opt-einsum>=2.3.2 in /home/m/mekadmini/.local/lib/python3.8/site-packages (from tensorflow) (3.3.0)\n",
      "Requirement already satisfied: absl-py>=1.0.0 in /home/m/mekadmini/.local/lib/python3.8/site-packages (from tensorflow) (1.4.0)\n",
      "Requirement already satisfied: jax>=0.3.15 in /home/m/mekadmini/.local/lib/python3.8/site-packages (from tensorflow) (0.4.8)\n",
      "Requirement already satisfied: wrapt<1.15,>=1.11.0 in /usr/lib/python3/dist-packages (from tensorflow) (1.11.2)\n",
      "Requirement already satisfied: google-pasta>=0.1.1 in /home/m/mekadmini/.local/lib/python3.8/site-packages (from tensorflow) (0.2.0)\n",
      "Requirement already satisfied: tensorflow-estimator<2.13,>=2.12.0 in /home/m/mekadmini/.local/lib/python3.8/site-packages (from tensorflow) (2.12.0)\n",
      "Requirement already satisfied: tensorflow-io-gcs-filesystem>=0.23.1; platform_machine != \"arm64\" or platform_system != \"Darwin\" in /home/m/mekadmini/.local/lib/python3.8/site-packages (from tensorflow) (0.32.0)\n",
      "Requirement already satisfied: termcolor>=1.1.0 in /home/m/mekadmini/.local/lib/python3.8/site-packages (from tensorflow) (2.2.0)\n",
      "Requirement already satisfied: flatbuffers>=2.0 in /home/m/mekadmini/.local/lib/python3.8/site-packages (from tensorflow) (23.3.3)\n",
      "Requirement already satisfied: setuptools in /usr/lib/python3/dist-packages (from tensorflow) (45.2.0)\n",
      "Requirement already satisfied: gast<=0.4.0,>=0.2.1 in /home/m/mekadmini/.local/lib/python3.8/site-packages (from tensorflow) (0.4.0)\n",
      "Requirement already satisfied: grpcio<2.0,>=1.24.3 in /home/m/mekadmini/.local/lib/python3.8/site-packages (from tensorflow) (1.53.0)\n",
      "Requirement already satisfied: tensorboard<2.13,>=2.12 in /home/m/mekadmini/.local/lib/python3.8/site-packages (from tensorflow) (2.12.1)\n",
      "Requirement already satisfied: astunparse>=1.6.0 in /home/m/mekadmini/.local/lib/python3.8/site-packages (from tensorflow) (1.6.3)\n",
      "Requirement already satisfied: protobuf!=4.21.0,!=4.21.1,!=4.21.2,!=4.21.3,!=4.21.4,!=4.21.5,<5.0.0dev,>=3.20.3 in /home/m/mekadmini/.local/lib/python3.8/site-packages (from tensorflow) (4.22.1)\n",
      "Requirement already satisfied: h5py>=2.9.0 in /home/m/mekadmini/.local/lib/python3.8/site-packages (from tensorflow) (3.8.0)\n",
      "Requirement already satisfied: ml-dtypes>=0.0.3 in /home/m/mekadmini/.local/lib/python3.8/site-packages (from jax>=0.3.15->tensorflow) (0.0.4)\n",
      "Requirement already satisfied: scipy>=1.7 in /home/m/mekadmini/.local/lib/python3.8/site-packages (from jax>=0.3.15->tensorflow) (1.10.1)\n",
      "Requirement already satisfied: markdown>=2.6.8 in /usr/lib/python3/dist-packages (from tensorboard<2.13,>=2.12->tensorflow) (3.1.1)\n",
      "Requirement already satisfied: requests<3,>=2.21.0 in /usr/lib/python3/dist-packages (from tensorboard<2.13,>=2.12->tensorflow) (2.22.0)\n",
      "Requirement already satisfied: tensorboard-data-server<0.8.0,>=0.7.0 in /home/m/mekadmini/.local/lib/python3.8/site-packages (from tensorboard<2.13,>=2.12->tensorflow) (0.7.0)\n",
      "Requirement already satisfied: werkzeug>=1.0.1 in /home/m/mekadmini/.local/lib/python3.8/site-packages (from tensorboard<2.13,>=2.12->tensorflow) (2.2.3)\n",
      "Requirement already satisfied: google-auth<3,>=1.6.3 in /home/m/mekadmini/.local/lib/python3.8/site-packages (from tensorboard<2.13,>=2.12->tensorflow) (2.17.1)\n",
      "Requirement already satisfied: wheel>=0.26 in /usr/lib/python3/dist-packages (from tensorboard<2.13,>=2.12->tensorflow) (0.34.2)\n",
      "Requirement already satisfied: tensorboard-plugin-wit>=1.6.0 in /home/m/mekadmini/.local/lib/python3.8/site-packages (from tensorboard<2.13,>=2.12->tensorflow) (1.8.1)\n",
      "Requirement already satisfied: google-auth-oauthlib<1.1,>=0.5 in /home/m/mekadmini/.local/lib/python3.8/site-packages (from tensorboard<2.13,>=2.12->tensorflow) (1.0.0)\n",
      "Requirement already satisfied: MarkupSafe>=2.1.1 in /home/m/mekadmini/.local/lib/python3.8/site-packages (from werkzeug>=1.0.1->tensorboard<2.13,>=2.12->tensorflow) (2.1.2)\n",
      "Requirement already satisfied: pyasn1-modules>=0.2.1 in /home/m/mekadmini/.local/lib/python3.8/site-packages (from google-auth<3,>=1.6.3->tensorboard<2.13,>=2.12->tensorflow) (0.2.8)\n",
      "Requirement already satisfied: cachetools<6.0,>=2.0.0 in /home/m/mekadmini/.local/lib/python3.8/site-packages (from google-auth<3,>=1.6.3->tensorboard<2.13,>=2.12->tensorflow) (5.3.0)\n",
      "Requirement already satisfied: rsa<5,>=3.1.4; python_version >= \"3.6\" in /home/m/mekadmini/.local/lib/python3.8/site-packages (from google-auth<3,>=1.6.3->tensorboard<2.13,>=2.12->tensorflow) (4.9)\n",
      "Requirement already satisfied: requests-oauthlib>=0.7.0 in /home/m/mekadmini/.local/lib/python3.8/site-packages (from google-auth-oauthlib<1.1,>=0.5->tensorboard<2.13,>=2.12->tensorflow) (1.3.1)\n",
      "Requirement already satisfied: pyasn1<0.5.0,>=0.4.6 in /home/m/mekadmini/.local/lib/python3.8/site-packages (from pyasn1-modules>=0.2.1->google-auth<3,>=1.6.3->tensorboard<2.13,>=2.12->tensorflow) (0.4.8)\n",
      "Requirement already satisfied: oauthlib>=3.0.0 in /usr/lib/python3/dist-packages (from requests-oauthlib>=0.7.0->google-auth-oauthlib<1.1,>=0.5->tensorboard<2.13,>=2.12->tensorflow) (3.1.0)\n",
      "Installing collected packages: numpy\n",
      "  Attempting uninstall: numpy\n",
      "    Found existing installation: numpy 1.24.2\n",
      "    Uninstalling numpy-1.24.2:\n",
      "      Successfully uninstalled numpy-1.24.2\n",
      "Successfully installed numpy-1.23.5\n",
      "Note: you may need to restart the kernel to use updated packages.\n",
      "Requirement already up-to-date: pandas in /home/m/mekadmini/.local/lib/python3.8/site-packages (2.0.0)\n",
      "Collecting numpy\n",
      "  Using cached numpy-1.24.2-cp38-cp38-manylinux_2_17_x86_64.manylinux2014_x86_64.whl (17.3 MB)\n",
      "Requirement already up-to-date: sklearn in /home/m/mekadmini/.local/lib/python3.8/site-packages (0.0.post1)\n",
      "Requirement already satisfied, skipping upgrade: python-dateutil>=2.8.2 in /home/m/mekadmini/.local/lib/python3.8/site-packages (from pandas) (2.8.2)\n",
      "Requirement already satisfied, skipping upgrade: tzdata>=2022.1 in /home/m/mekadmini/.local/lib/python3.8/site-packages (from pandas) (2023.3)\n",
      "Requirement already satisfied, skipping upgrade: pytz>=2020.1 in /home/m/mekadmini/.local/lib/python3.8/site-packages (from pandas) (2023.3)\n",
      "Requirement already satisfied, skipping upgrade: six>=1.5 in /usr/lib/python3/dist-packages (from python-dateutil>=2.8.2->pandas) (1.14.0)\n",
      "\u001b[31mERROR: tensorflow 2.12.0 has requirement numpy<1.24,>=1.22, but you'll have numpy 1.24.2 which is incompatible.\u001b[0m\n",
      "Installing collected packages: numpy\n",
      "  Attempting uninstall: numpy\n",
      "    Found existing installation: numpy 1.23.5\n",
      "    Uninstalling numpy-1.23.5:\n",
      "      Successfully uninstalled numpy-1.23.5\n",
      "Successfully installed numpy-1.24.2\n",
      "Note: you may need to restart the kernel to use updated packages.\n"
     ]
    }
   ],
   "source": [
    "%pip install tensorflow tensorflow_hub tensorflow_text\n",
    "%pip install --upgrade pandas numpy sklearn"
   ]
  },
  {
   "cell_type": "code",
   "execution_count": 17,
   "metadata": {},
   "outputs": [],
   "source": [
    "import os\n",
    "\n",
    "import tensorflow as tf\n",
    "import tensorflow_hub as hub\n",
    "import tensorflow_text as text\n",
    "\n",
    "import pandas as pd\n",
    "import numpy as np\n",
    "from sklearn.model_selection import train_test_split\n",
    "from sklearn.metrics import confusion_matrix\n",
    "\n",
    "import datetime\n",
    "import pickle\n",
    "\n",
    "import os\n",
    "\n",
    "import tensorflow as tf\n",
    "import tensorflow_hub as hub\n",
    "import tensorflow_text as text\n",
    "\n",
    "import pandas as pd\n",
    "import numpy as np\n",
    "from sklearn.metrics import confusion_matrix\n",
    "\n",
    "import pickle"
   ]
  },
  {
   "cell_type": "code",
   "execution_count": 34,
   "metadata": {},
   "outputs": [],
   "source": [
    "def list_saved_models(root_folder='saved_models'):\n",
    "    model_paths = []\n",
    "    for dirpath, dirnames, _ in os.walk(root_folder):\n",
    "        for dirname in dirnames:\n",
    "            subfolder_path = os.path.join(dirpath, dirname)\n",
    "            # Only add the directories which start with 'model'\n",
    "            if dirname.startswith('model'):\n",
    "                model_paths.append(subfolder_path)\n",
    "    return model_paths\n",
    "\n",
    "\n",
    "model_paths = list_saved_models()\n"
   ]
  },
  {
   "cell_type": "code",
   "execution_count": 29,
   "metadata": {},
   "outputs": [
    {
     "data": {
      "text/plain": [
       "{'model_name': 'small_bert',\n",
       " 'model_parameters': 'bert_en_uncased_L-2_H-128_A-2',\n",
       " 'activation_func': 'sigmoid',\n",
       " 'optimization': 'Adam',\n",
       " 'epochs': 'Adam',\n",
       " 'date': '1-epochs'}"
      ]
     },
     "execution_count": 29,
     "metadata": {},
     "output_type": "execute_result"
    }
   ],
   "source": [
    "# def map_to_entry(model_dir):\n",
    "#     entries = model_dir.split(sep='/')\n",
    "#     return {'model_name': entries[1], 'model_parameters': entries[2], 'activation_func': entries[3], 'optimization': entries[4], 'epochs': entries[4], 'date': entries[5]}\n",
    "\n",
    "\n",
    "# map_to_entry(model_paths[0])\n"
   ]
  },
  {
   "cell_type": "code",
   "execution_count": 48,
   "metadata": {},
   "outputs": [],
   "source": [
    "def analyze_model(model_dir):\n",
    "    with open(os.path.join(model_dir, 'testing_data.pickle'), 'rb') as f:\n",
    "        loaded_obj = pickle.load(f)\n",
    "    _, x_test, _, y_test = loaded_obj.values()\n",
    "    model = tf.keras.models.load_model(model_dir)\n",
    "    test_loss, test_acc, test_prec, test_recall = model.evaluate(\n",
    "        x_test, y_test)\n",
    "    entries = model_dir.split(sep='/')\n",
    "\n",
    "    return {'model_name': entries[1],\n",
    "            'model_parameters': entries[2],\n",
    "            'activation_func': entries[3],\n",
    "            'optimization': entries[4],\n",
    "            'epochs': entries[5].split('-',1)[0],\n",
    "            'date': entries[6].split('_',1)[1],\n",
    "            'test_loss': test_loss,\n",
    "            'test_acc': test_acc,\n",
    "            'test_prec': test_prec,\n",
    "            'test_recall': test_recall}\n"
   ]
  },
  {
   "cell_type": "code",
   "execution_count": 49,
   "metadata": {},
   "outputs": [
    {
     "name": "stdout",
     "output_type": "stream",
     "text": [
      "35/35 [==============================] - 3s 65ms/step - loss: 0.0277 - binary_accuracy: 0.9919 - precision: 0.9795 - recall: 0.9597\n",
      "35/35 [==============================] - 3s 66ms/step - loss: 0.0449 - binary_accuracy: 0.9919 - precision: 1.0000 - recall: 0.9396\n",
      "35/35 [==============================] - 3s 66ms/step - loss: 0.0524 - binary_accuracy: 0.9901 - precision: 0.9929 - recall: 0.9329\n",
      "   model_name               model_parameters activation_func optimization   \n",
      "0  small_bert  bert_en_uncased_L-2_H-128_A-2         sigmoid         Adam  \\\n",
      "1  small_bert  bert_en_uncased_L-2_H-128_A-2         sigmoid         Adam   \n",
      "2  small_bert  bert_en_uncased_L-2_H-128_A-2         sigmoid         Adam   \n",
      "\n",
      "  epochs                 date  test_loss  test_acc  test_prec  test_recall  \n",
      "0      1  2023-04-04_21-29-41   0.027655  0.991928   0.979452     0.959732  \n",
      "1      4  2023-04-04_21-54-19   0.044898  0.991928   1.000000     0.939597  \n",
      "2      5  2023-04-04_21-47-01   0.052441  0.990135   0.992857     0.932886  \n"
     ]
    }
   ],
   "source": [
    "summary = pd.DataFrame(list(map(analyze_model,model_paths)))\n",
    "print(summary)"
   ]
  },
  {
   "cell_type": "code",
   "execution_count": 50,
   "metadata": {},
   "outputs": [],
   "source": [
    "summary.to_csv('summary.csv', sep='\\t',index=False)"
   ]
  },
  {
   "cell_type": "code",
   "execution_count": 51,
   "metadata": {},
   "outputs": [
    {
     "data": {
      "text/html": [
       "<div>\n",
       "<style scoped>\n",
       "    .dataframe tbody tr th:only-of-type {\n",
       "        vertical-align: middle;\n",
       "    }\n",
       "\n",
       "    .dataframe tbody tr th {\n",
       "        vertical-align: top;\n",
       "    }\n",
       "\n",
       "    .dataframe thead th {\n",
       "        text-align: right;\n",
       "    }\n",
       "</style>\n",
       "<table border=\"1\" class=\"dataframe\">\n",
       "  <thead>\n",
       "    <tr style=\"text-align: right;\">\n",
       "      <th></th>\n",
       "      <th>model_name</th>\n",
       "      <th>model_parameters</th>\n",
       "      <th>activation_func</th>\n",
       "      <th>optimization</th>\n",
       "      <th>epochs</th>\n",
       "      <th>date</th>\n",
       "      <th>test_loss</th>\n",
       "      <th>test_acc</th>\n",
       "      <th>test_prec</th>\n",
       "      <th>test_recall</th>\n",
       "    </tr>\n",
       "  </thead>\n",
       "  <tbody>\n",
       "    <tr>\n",
       "      <th>0</th>\n",
       "      <td>small_bert</td>\n",
       "      <td>bert_en_uncased_L-2_H-128_A-2</td>\n",
       "      <td>sigmoid</td>\n",
       "      <td>Adam</td>\n",
       "      <td>1</td>\n",
       "      <td>2023-04-04_21-29-41</td>\n",
       "      <td>0.027655</td>\n",
       "      <td>0.991928</td>\n",
       "      <td>0.979452</td>\n",
       "      <td>0.959732</td>\n",
       "    </tr>\n",
       "    <tr>\n",
       "      <th>1</th>\n",
       "      <td>small_bert</td>\n",
       "      <td>bert_en_uncased_L-2_H-128_A-2</td>\n",
       "      <td>sigmoid</td>\n",
       "      <td>Adam</td>\n",
       "      <td>4</td>\n",
       "      <td>2023-04-04_21-54-19</td>\n",
       "      <td>0.044898</td>\n",
       "      <td>0.991928</td>\n",
       "      <td>1.000000</td>\n",
       "      <td>0.939597</td>\n",
       "    </tr>\n",
       "    <tr>\n",
       "      <th>2</th>\n",
       "      <td>small_bert</td>\n",
       "      <td>bert_en_uncased_L-2_H-128_A-2</td>\n",
       "      <td>sigmoid</td>\n",
       "      <td>Adam</td>\n",
       "      <td>5</td>\n",
       "      <td>2023-04-04_21-47-01</td>\n",
       "      <td>0.052441</td>\n",
       "      <td>0.990135</td>\n",
       "      <td>0.992857</td>\n",
       "      <td>0.932886</td>\n",
       "    </tr>\n",
       "  </tbody>\n",
       "</table>\n",
       "</div>"
      ],
      "text/plain": [
       "   model_name               model_parameters activation_func optimization   \n",
       "0  small_bert  bert_en_uncased_L-2_H-128_A-2         sigmoid         Adam  \\\n",
       "1  small_bert  bert_en_uncased_L-2_H-128_A-2         sigmoid         Adam   \n",
       "2  small_bert  bert_en_uncased_L-2_H-128_A-2         sigmoid         Adam   \n",
       "\n",
       "   epochs                 date  test_loss  test_acc  test_prec  test_recall  \n",
       "0       1  2023-04-04_21-29-41   0.027655  0.991928   0.979452     0.959732  \n",
       "1       4  2023-04-04_21-54-19   0.044898  0.991928   1.000000     0.939597  \n",
       "2       5  2023-04-04_21-47-01   0.052441  0.990135   0.992857     0.932886  "
      ]
     },
     "execution_count": 51,
     "metadata": {},
     "output_type": "execute_result"
    }
   ],
   "source": [
    "df = pd.read_csv('summary.csv', sep='\\t')\n",
    "df"
   ]
  }
 ],
 "metadata": {
  "kernelspec": {
   "display_name": "Python 3",
   "language": "python",
   "name": "python3"
  },
  "language_info": {
   "codemirror_mode": {
    "name": "ipython",
    "version": 3
   },
   "file_extension": ".py",
   "mimetype": "text/x-python",
   "name": "python",
   "nbconvert_exporter": "python",
   "pygments_lexer": "ipython3",
   "version": "3.8.10"
  },
  "orig_nbformat": 4
 },
 "nbformat": 4,
 "nbformat_minor": 2
}
