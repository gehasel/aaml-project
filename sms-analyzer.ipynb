{
 "cells": [
  {
   "cell_type": "code",
   "execution_count": 1,
   "metadata": {},
   "outputs": [],
   "source": [
    "# %pip install tensorflow tensorflow_hub tensorflow_text\n",
    "# %pip install --upgrade pandas numpy sklearn"
   ]
  },
  {
   "cell_type": "code",
   "execution_count": 2,
   "metadata": {},
   "outputs": [],
   "source": [
    "import os\n",
    "\n",
    "import tensorflow as tf\n",
    "import tensorflow_hub as hub\n",
    "import tensorflow_text as text\n",
    "\n",
    "import pandas as pd\n",
    "import numpy as np\n",
    "\n",
    "import pickle\n"
   ]
  },
  {
   "cell_type": "code",
   "execution_count": 3,
   "metadata": {},
   "outputs": [],
   "source": [
    "def list_saved_models(root_folder='saved_models'):\n",
    "    model_paths = []\n",
    "    for dirpath, dirnames, _ in os.walk(root_folder):\n",
    "        for dirname in dirnames:\n",
    "            subfolder_path = os.path.join(dirpath, dirname)\n",
    "            # Only add the directories which start with 'model'\n",
    "            if dirname.startswith('model'):\n",
    "                model_paths.append(subfolder_path)\n",
    "    return model_paths\n",
    "\n",
    "\n",
    "model_paths = list_saved_models()\n"
   ]
  },
  {
   "cell_type": "code",
   "execution_count": 4,
   "metadata": {},
   "outputs": [
    {
     "data": {
      "text/plain": [
       "['saved_models/small_bert/bert_en_uncased_L-2_H-128_A-2/sigmoid/Adamax/4-epochs/model_2023-04-05_10-46-15']"
      ]
     },
     "execution_count": 4,
     "metadata": {},
     "output_type": "execute_result"
    }
   ],
   "source": [
    "def list_only_not_analyzed_models(model_paths, summary_file='summary.csv'):\n",
    "    df = pd.read_csv(summary_file, sep='\\t')\n",
    "    analyzed_models = list(df['date'])\n",
    "    not_analyzed_models = [x for x in model_paths if not any(\n",
    "        y in x for y in analyzed_models)]\n",
    "    return not_analyzed_models, df\n",
    "\n",
    "\n",
    "list_only_not_analyzed_models(model_paths)[0]\n"
   ]
  },
  {
   "cell_type": "code",
   "execution_count": 5,
   "metadata": {},
   "outputs": [],
   "source": [
    "def analyze_model(model_dir):\n",
    "    with open(os.path.join(model_dir, 'testing_data.pickle'), 'rb') as f:\n",
    "        loaded_obj = pickle.load(f)\n",
    "    _, x_test, _, y_test = loaded_obj.values()\n",
    "    model = tf.keras.models.load_model(model_dir)\n",
    "    test_loss, test_acc, test_prec, test_recall = model.evaluate(\n",
    "        x_test, y_test)\n",
    "    entries = model_dir.split(sep='/')\n",
    "\n",
    "    return {'model_name': entries[1],\n",
    "            'model_parameters': entries[2],\n",
    "            'activation_func': entries[3],\n",
    "            'optimization': entries[4],\n",
    "            'epochs': entries[5].split('-', 1)[0],\n",
    "            'date': entries[6].split('_', 1)[1],\n",
    "            'test_loss': test_loss,\n",
    "            'test_acc': test_acc,\n",
    "            'test_prec': test_prec,\n",
    "            'test_recall': test_recall}\n"
   ]
  },
  {
   "cell_type": "code",
   "execution_count": 6,
   "metadata": {},
   "outputs": [],
   "source": [
    "def analyze(model_paths, all=False, summary_file='summary.csv'):\n",
    "    if all:\n",
    "        return pd.DataFrame(list(map(analyze_model, model_paths)))\n",
    "\n",
    "    models_to_be_analyzed, analyzed_models = list_only_not_analyzed_models(\n",
    "        model_paths, summary_file=summary_file)\n",
    "    newly_analyzed_models = pd.DataFrame(\n",
    "        list(map(analyze_model, models_to_be_analyzed)))\n",
    "    analyzed_models.reset_index(drop=True, inplace=True)\n",
    "    newly_analyzed_models.reset_index(drop=True, inplace=True)\n",
    "    return pd.concat([analyzed_models, newly_analyzed_models], axis=0)\n"
   ]
  },
  {
   "cell_type": "code",
   "execution_count": 7,
   "metadata": {},
   "outputs": [
    {
     "name": "stdout",
     "output_type": "stream",
     "text": [
      "35/35 [==============================] - 3s 65ms/step - loss: 0.0369 - binary_accuracy: 0.9901 - precision: 0.9539 - recall: 0.9732\n"
     ]
    },
    {
     "data": {
      "text/html": [
       "<div>\n",
       "<style scoped>\n",
       "    .dataframe tbody tr th:only-of-type {\n",
       "        vertical-align: middle;\n",
       "    }\n",
       "\n",
       "    .dataframe tbody tr th {\n",
       "        vertical-align: top;\n",
       "    }\n",
       "\n",
       "    .dataframe thead th {\n",
       "        text-align: right;\n",
       "    }\n",
       "</style>\n",
       "<table border=\"1\" class=\"dataframe\">\n",
       "  <thead>\n",
       "    <tr style=\"text-align: right;\">\n",
       "      <th></th>\n",
       "      <th>model_name</th>\n",
       "      <th>model_parameters</th>\n",
       "      <th>activation_func</th>\n",
       "      <th>optimization</th>\n",
       "      <th>epochs</th>\n",
       "      <th>date</th>\n",
       "      <th>test_loss</th>\n",
       "      <th>test_acc</th>\n",
       "      <th>test_prec</th>\n",
       "      <th>test_recall</th>\n",
       "    </tr>\n",
       "  </thead>\n",
       "  <tbody>\n",
       "    <tr>\n",
       "      <th>0</th>\n",
       "      <td>small_bert</td>\n",
       "      <td>bert_en_uncased_L-2_H-128_A-2</td>\n",
       "      <td>sigmoid</td>\n",
       "      <td>Adam</td>\n",
       "      <td>1</td>\n",
       "      <td>2023-04-04_21-29-41</td>\n",
       "      <td>0.027655</td>\n",
       "      <td>0.991928</td>\n",
       "      <td>0.979452</td>\n",
       "      <td>0.959732</td>\n",
       "    </tr>\n",
       "    <tr>\n",
       "      <th>1</th>\n",
       "      <td>small_bert</td>\n",
       "      <td>bert_en_uncased_L-2_H-128_A-2</td>\n",
       "      <td>sigmoid</td>\n",
       "      <td>Adam</td>\n",
       "      <td>4</td>\n",
       "      <td>2023-04-04_21-54-19</td>\n",
       "      <td>0.044898</td>\n",
       "      <td>0.991928</td>\n",
       "      <td>1.000000</td>\n",
       "      <td>0.939597</td>\n",
       "    </tr>\n",
       "    <tr>\n",
       "      <th>2</th>\n",
       "      <td>small_bert</td>\n",
       "      <td>bert_en_uncased_L-2_H-128_A-2</td>\n",
       "      <td>sigmoid</td>\n",
       "      <td>Adam</td>\n",
       "      <td>5</td>\n",
       "      <td>2023-04-04_21-47-01</td>\n",
       "      <td>0.052441</td>\n",
       "      <td>0.990135</td>\n",
       "      <td>0.992857</td>\n",
       "      <td>0.932886</td>\n",
       "    </tr>\n",
       "    <tr>\n",
       "      <th>0</th>\n",
       "      <td>small_bert</td>\n",
       "      <td>bert_en_uncased_L-2_H-128_A-2</td>\n",
       "      <td>sigmoid</td>\n",
       "      <td>Adamax</td>\n",
       "      <td>4</td>\n",
       "      <td>2023-04-05_10-46-15</td>\n",
       "      <td>0.036884</td>\n",
       "      <td>0.990135</td>\n",
       "      <td>0.953947</td>\n",
       "      <td>0.973154</td>\n",
       "    </tr>\n",
       "  </tbody>\n",
       "</table>\n",
       "</div>"
      ],
      "text/plain": [
       "   model_name               model_parameters activation_func optimization   \n",
       "0  small_bert  bert_en_uncased_L-2_H-128_A-2         sigmoid         Adam  \\\n",
       "1  small_bert  bert_en_uncased_L-2_H-128_A-2         sigmoid         Adam   \n",
       "2  small_bert  bert_en_uncased_L-2_H-128_A-2         sigmoid         Adam   \n",
       "0  small_bert  bert_en_uncased_L-2_H-128_A-2         sigmoid       Adamax   \n",
       "\n",
       "  epochs                 date  test_loss  test_acc  test_prec  test_recall  \n",
       "0      1  2023-04-04_21-29-41   0.027655  0.991928   0.979452     0.959732  \n",
       "1      4  2023-04-04_21-54-19   0.044898  0.991928   1.000000     0.939597  \n",
       "2      5  2023-04-04_21-47-01   0.052441  0.990135   0.992857     0.932886  \n",
       "0      4  2023-04-05_10-46-15   0.036884  0.990135   0.953947     0.973154  "
      ]
     },
     "execution_count": 7,
     "metadata": {},
     "output_type": "execute_result"
    }
   ],
   "source": [
    "summary = analyze(model_paths)\n",
    "summary\n",
    "# summary = summary.transform(np.sort) # sort by model hierarchy\n",
    "\n",
    "# summary\n"
   ]
  },
  {
   "cell_type": "code",
   "execution_count": 8,
   "metadata": {},
   "outputs": [
    {
     "name": "stdout",
     "output_type": "stream",
     "text": [
      "['model_name', 'model_parameters', 'activation_func', 'optimization', 'epochs', 'date', 'test_loss', 'test_acc', 'test_prec', 'test_recall']\n"
     ]
    }
   ],
   "source": [
    "print(list(summary.columns))\n",
    "summary.sort_values(by=list(summary.columns), ignore_index=True,\n",
    "                    ascending=True,inplace=True)  # sort by model hierarchy\n"
   ]
  },
  {
   "cell_type": "code",
   "execution_count": 9,
   "metadata": {},
   "outputs": [],
   "source": [
    "summary.to_csv('summary.csv', sep='\\t',index=False)"
   ]
  },
  {
   "cell_type": "code",
   "execution_count": 10,
   "metadata": {},
   "outputs": [
    {
     "data": {
      "text/html": [
       "<div>\n",
       "<style scoped>\n",
       "    .dataframe tbody tr th:only-of-type {\n",
       "        vertical-align: middle;\n",
       "    }\n",
       "\n",
       "    .dataframe tbody tr th {\n",
       "        vertical-align: top;\n",
       "    }\n",
       "\n",
       "    .dataframe thead th {\n",
       "        text-align: right;\n",
       "    }\n",
       "</style>\n",
       "<table border=\"1\" class=\"dataframe\">\n",
       "  <thead>\n",
       "    <tr style=\"text-align: right;\">\n",
       "      <th></th>\n",
       "      <th>model_name</th>\n",
       "      <th>model_parameters</th>\n",
       "      <th>activation_func</th>\n",
       "      <th>optimization</th>\n",
       "      <th>epochs</th>\n",
       "      <th>date</th>\n",
       "      <th>test_loss</th>\n",
       "      <th>test_acc</th>\n",
       "      <th>test_prec</th>\n",
       "      <th>test_recall</th>\n",
       "    </tr>\n",
       "  </thead>\n",
       "  <tbody>\n",
       "    <tr>\n",
       "      <th>0</th>\n",
       "      <td>small_bert</td>\n",
       "      <td>bert_en_uncased_L-2_H-128_A-2</td>\n",
       "      <td>sigmoid</td>\n",
       "      <td>Adam</td>\n",
       "      <td>1</td>\n",
       "      <td>2023-04-04_21-29-41</td>\n",
       "      <td>0.027655</td>\n",
       "      <td>0.991928</td>\n",
       "      <td>0.979452</td>\n",
       "      <td>0.959732</td>\n",
       "    </tr>\n",
       "    <tr>\n",
       "      <th>1</th>\n",
       "      <td>small_bert</td>\n",
       "      <td>bert_en_uncased_L-2_H-128_A-2</td>\n",
       "      <td>sigmoid</td>\n",
       "      <td>Adam</td>\n",
       "      <td>4</td>\n",
       "      <td>2023-04-04_21-54-19</td>\n",
       "      <td>0.044898</td>\n",
       "      <td>0.991928</td>\n",
       "      <td>1.000000</td>\n",
       "      <td>0.939597</td>\n",
       "    </tr>\n",
       "    <tr>\n",
       "      <th>2</th>\n",
       "      <td>small_bert</td>\n",
       "      <td>bert_en_uncased_L-2_H-128_A-2</td>\n",
       "      <td>sigmoid</td>\n",
       "      <td>Adam</td>\n",
       "      <td>5</td>\n",
       "      <td>2023-04-04_21-47-01</td>\n",
       "      <td>0.052441</td>\n",
       "      <td>0.990135</td>\n",
       "      <td>0.992857</td>\n",
       "      <td>0.932886</td>\n",
       "    </tr>\n",
       "    <tr>\n",
       "      <th>3</th>\n",
       "      <td>small_bert</td>\n",
       "      <td>bert_en_uncased_L-2_H-128_A-2</td>\n",
       "      <td>sigmoid</td>\n",
       "      <td>Adamax</td>\n",
       "      <td>4</td>\n",
       "      <td>2023-04-05_10-46-15</td>\n",
       "      <td>0.036884</td>\n",
       "      <td>0.990135</td>\n",
       "      <td>0.953947</td>\n",
       "      <td>0.973154</td>\n",
       "    </tr>\n",
       "  </tbody>\n",
       "</table>\n",
       "</div>"
      ],
      "text/plain": [
       "   model_name               model_parameters activation_func optimization   \n",
       "0  small_bert  bert_en_uncased_L-2_H-128_A-2         sigmoid         Adam  \\\n",
       "1  small_bert  bert_en_uncased_L-2_H-128_A-2         sigmoid         Adam   \n",
       "2  small_bert  bert_en_uncased_L-2_H-128_A-2         sigmoid         Adam   \n",
       "3  small_bert  bert_en_uncased_L-2_H-128_A-2         sigmoid       Adamax   \n",
       "\n",
       "   epochs                 date  test_loss  test_acc  test_prec  test_recall  \n",
       "0       1  2023-04-04_21-29-41   0.027655  0.991928   0.979452     0.959732  \n",
       "1       4  2023-04-04_21-54-19   0.044898  0.991928   1.000000     0.939597  \n",
       "2       5  2023-04-04_21-47-01   0.052441  0.990135   0.992857     0.932886  \n",
       "3       4  2023-04-05_10-46-15   0.036884  0.990135   0.953947     0.973154  "
      ]
     },
     "execution_count": 10,
     "metadata": {},
     "output_type": "execute_result"
    }
   ],
   "source": [
    "df = pd.read_csv('summary.csv', sep='\\t')\n",
    "df"
   ]
  }
 ],
 "metadata": {
  "kernelspec": {
   "display_name": "Python 3",
   "language": "python",
   "name": "python3"
  },
  "language_info": {
   "codemirror_mode": {
    "name": "ipython",
    "version": 3
   },
   "file_extension": ".py",
   "mimetype": "text/x-python",
   "name": "python",
   "nbconvert_exporter": "python",
   "pygments_lexer": "ipython3",
   "version": "3.8.10"
  },
  "orig_nbformat": 4
 },
 "nbformat": 4,
 "nbformat_minor": 2
}
