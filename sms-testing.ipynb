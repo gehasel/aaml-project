{
  "cells": [
    {
      "cell_type": "code",
      "execution_count": null,
      "metadata": {
        "id": "gdcOckdOZOfE"
      },
      "outputs": [],
      "source": [
        "%pip install tensorflow tensorflow_hub tensorflow_text\n",
        "%pip install --upgrade pandas numpy sklearn"
      ]
    },
    {
      "cell_type": "code",
      "execution_count": 2,
      "metadata": {
        "id": "x24woaykZOfH"
      },
      "outputs": [],
      "source": [
        "import os\n",
        "\n",
        "import tensorflow as tf\n",
        "import tensorflow_hub as hub\n",
        "import tensorflow_text as text\n",
        "\n",
        "import pandas as pd\n",
        "import numpy as np\n",
        "from sklearn.metrics import confusion_matrix\n",
        "\n",
        "import pickle"
      ]
    },
    {
      "cell_type": "code",
      "execution_count": 3,
      "metadata": {
        "id": "SVe_rYIVZOfI"
      },
      "outputs": [],
      "source": [
        "model_dir = 'saved_models/small_bert/bert_en_uncased_L-2_H-128_A-2/sigmoid/Adam/1-epochs/model_2023-04-04_21-29-41'"
      ]
    },
    {
      "cell_type": "code",
      "execution_count": null,
      "metadata": {
        "id": "iP6bTzN3ZOfJ"
      },
      "outputs": [],
      "source": [
        "%cd aaml-project\n",
        "with open(os.path.join(model_dir, 'testing_data.pickle'), 'rb') as f:\n",
        "    loaded_obj = pickle.load(f)\n",
        "\n",
        "x_train, x_test, y_train, y_test = loaded_obj.values()"
      ]
    },
    {
      "cell_type": "code",
      "execution_count": null,
      "metadata": {
        "id": "43wceAxtZOfK"
      },
      "outputs": [],
      "source": [
        "x_test.sample(5)"
      ]
    },
    {
      "cell_type": "code",
      "execution_count": 11,
      "metadata": {
        "id": "gHUYN01AZOfK"
      },
      "outputs": [],
      "source": [
        "model = tf.keras.models.load_model(model_dir)"
      ]
    },
    {
      "cell_type": "code",
      "execution_count": null,
      "metadata": {
        "id": "KifAcSmNZOfL"
      },
      "outputs": [],
      "source": [
        "model.summary()"
      ]
    },
    {
      "cell_type": "code",
      "execution_count": null,
      "metadata": {
        "id": "u-7eMPJwZOfM"
      },
      "outputs": [],
      "source": [
        "test_loss, test_acc, test_prec, test_recall = model.evaluate(x_test, y_test)"
      ]
    },
    {
      "cell_type": "code",
      "execution_count": null,
      "metadata": {
        "id": "e5pnvBeibUXZ"
      },
      "outputs": [],
      "source": [
        "y_pred_dist = model.predict(x_test)\n",
        "print(y_pred_dist)"
      ]
    },
    {
      "cell_type": "code",
      "execution_count": null,
      "metadata": {
        "id": "UD2nZ5NUZOfN"
      },
      "outputs": [],
      "source": [
        "y_pred = np.vectorize(lambda x: 1 if x > 0.5 else 0)(y_pred_dist)\n",
        "\n",
        "cm = confusion_matrix(y_test, y_pred)\n",
        "print(cm)\n"
      ]
    }
  ],
  "metadata": {
    "colab": {
      "provenance": []
    },
    "kernelspec": {
      "display_name": "aamlenv",
      "language": "python",
      "name": "python3"
    },
    "language_info": {
      "codemirror_mode": {
        "name": "ipython",
        "version": 3
      },
      "file_extension": ".py",
      "mimetype": "text/x-python",
      "name": "python",
      "nbconvert_exporter": "python",
      "pygments_lexer": "ipython3",
      "version": "3.8.10"
    },
    "orig_nbformat": 4,
    "vscode": {
      "interpreter": {
        "hash": "25543acf24c55308a72579c9a72d64ccffdbefceab43efd325c6ad21cdc8448f"
      }
    }
  },
  "nbformat": 4,
  "nbformat_minor": 0
}
