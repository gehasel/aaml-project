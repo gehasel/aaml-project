{
  "cells": [
    {
      "cell_type": "code",
      "execution_count": 18,
      "metadata": {
        "id": "gdcOckdOZOfE"
      },
      "outputs": [
        {
          "name": "stdout",
          "output_type": "stream",
          "text": [
            "Requirement already satisfied: tensorflow in /home/m/mekadmini/.local/lib/python3.8/site-packages (2.12.0)\n",
            "Requirement already satisfied: tensorflow_hub in /home/m/mekadmini/.local/lib/python3.8/site-packages (0.13.0)\n",
            "Requirement already satisfied: tensorflow_text in /home/m/mekadmini/.local/lib/python3.8/site-packages (2.12.0)\n",
            "Requirement already satisfied: tensorflow-estimator<2.13,>=2.12.0 in /home/m/mekadmini/.local/lib/python3.8/site-packages (from tensorflow) (2.12.0)\n",
            "Requirement already satisfied: wrapt<1.15,>=1.11.0 in /usr/lib/python3/dist-packages (from tensorflow) (1.11.2)\n",
            "Requirement already satisfied: termcolor>=1.1.0 in /home/m/mekadmini/.local/lib/python3.8/site-packages (from tensorflow) (2.2.0)\n",
            "Requirement already satisfied: keras<2.13,>=2.12.0 in /home/m/mekadmini/.local/lib/python3.8/site-packages (from tensorflow) (2.12.0)\n",
            "Requirement already satisfied: numpy<1.24,>=1.22 in /home/m/mekadmini/.local/lib/python3.8/site-packages (from tensorflow) (1.23.5)\n",
            "Requirement already satisfied: jax>=0.3.15 in /home/m/mekadmini/.local/lib/python3.8/site-packages (from tensorflow) (0.4.8)\n",
            "Requirement already satisfied: protobuf!=4.21.0,!=4.21.1,!=4.21.2,!=4.21.3,!=4.21.4,!=4.21.5,<5.0.0dev,>=3.20.3 in /home/m/mekadmini/.local/lib/python3.8/site-packages (from tensorflow) (4.22.1)\n",
            "Requirement already satisfied: tensorboard<2.13,>=2.12 in /home/m/mekadmini/.local/lib/python3.8/site-packages (from tensorflow) (2.12.1)\n",
            "Requirement already satisfied: tensorflow-io-gcs-filesystem>=0.23.1; platform_machine != \"arm64\" or platform_system != \"Darwin\" in /home/m/mekadmini/.local/lib/python3.8/site-packages (from tensorflow) (0.32.0)\n",
            "Requirement already satisfied: flatbuffers>=2.0 in /home/m/mekadmini/.local/lib/python3.8/site-packages (from tensorflow) (23.3.3)\n",
            "Requirement already satisfied: h5py>=2.9.0 in /home/m/mekadmini/.local/lib/python3.8/site-packages (from tensorflow) (3.8.0)\n",
            "Requirement already satisfied: libclang>=13.0.0 in /home/m/mekadmini/.local/lib/python3.8/site-packages (from tensorflow) (16.0.0)\n",
            "Requirement already satisfied: astunparse>=1.6.0 in /home/m/mekadmini/.local/lib/python3.8/site-packages (from tensorflow) (1.6.3)\n",
            "Requirement already satisfied: absl-py>=1.0.0 in /home/m/mekadmini/.local/lib/python3.8/site-packages (from tensorflow) (1.4.0)\n",
            "Requirement already satisfied: packaging in /usr/lib/python3/dist-packages (from tensorflow) (20.3)\n",
            "Requirement already satisfied: six>=1.12.0 in /usr/lib/python3/dist-packages (from tensorflow) (1.14.0)\n",
            "Requirement already satisfied: grpcio<2.0,>=1.24.3 in /home/m/mekadmini/.local/lib/python3.8/site-packages (from tensorflow) (1.53.0)\n",
            "Requirement already satisfied: gast<=0.4.0,>=0.2.1 in /home/m/mekadmini/.local/lib/python3.8/site-packages (from tensorflow) (0.4.0)\n",
            "Requirement already satisfied: setuptools in /usr/lib/python3/dist-packages (from tensorflow) (45.2.0)\n",
            "Requirement already satisfied: opt-einsum>=2.3.2 in /home/m/mekadmini/.local/lib/python3.8/site-packages (from tensorflow) (3.3.0)\n",
            "Requirement already satisfied: typing-extensions>=3.6.6 in /home/m/mekadmini/.local/lib/python3.8/site-packages (from tensorflow) (4.5.0)\n",
            "Requirement already satisfied: google-pasta>=0.1.1 in /home/m/mekadmini/.local/lib/python3.8/site-packages (from tensorflow) (0.2.0)\n",
            "Requirement already satisfied: ml-dtypes>=0.0.3 in /home/m/mekadmini/.local/lib/python3.8/site-packages (from jax>=0.3.15->tensorflow) (0.0.4)\n",
            "Requirement already satisfied: scipy>=1.7 in /home/m/mekadmini/.local/lib/python3.8/site-packages (from jax>=0.3.15->tensorflow) (1.10.1)\n",
            "Requirement already satisfied: google-auth<3,>=1.6.3 in /home/m/mekadmini/.local/lib/python3.8/site-packages (from tensorboard<2.13,>=2.12->tensorflow) (2.17.1)\n",
            "Requirement already satisfied: tensorboard-plugin-wit>=1.6.0 in /home/m/mekadmini/.local/lib/python3.8/site-packages (from tensorboard<2.13,>=2.12->tensorflow) (1.8.1)\n",
            "Requirement already satisfied: google-auth-oauthlib<1.1,>=0.5 in /home/m/mekadmini/.local/lib/python3.8/site-packages (from tensorboard<2.13,>=2.12->tensorflow) (1.0.0)\n",
            "Requirement already satisfied: markdown>=2.6.8 in /usr/lib/python3/dist-packages (from tensorboard<2.13,>=2.12->tensorflow) (3.1.1)\n",
            "Requirement already satisfied: requests<3,>=2.21.0 in /usr/lib/python3/dist-packages (from tensorboard<2.13,>=2.12->tensorflow) (2.22.0)\n",
            "Requirement already satisfied: werkzeug>=1.0.1 in /home/m/mekadmini/.local/lib/python3.8/site-packages (from tensorboard<2.13,>=2.12->tensorflow) (2.2.3)\n",
            "Requirement already satisfied: wheel>=0.26 in /usr/lib/python3/dist-packages (from tensorboard<2.13,>=2.12->tensorflow) (0.34.2)\n",
            "Requirement already satisfied: tensorboard-data-server<0.8.0,>=0.7.0 in /home/m/mekadmini/.local/lib/python3.8/site-packages (from tensorboard<2.13,>=2.12->tensorflow) (0.7.0)\n",
            "Requirement already satisfied: pyasn1-modules>=0.2.1 in /home/m/mekadmini/.local/lib/python3.8/site-packages (from google-auth<3,>=1.6.3->tensorboard<2.13,>=2.12->tensorflow) (0.2.8)\n",
            "Requirement already satisfied: rsa<5,>=3.1.4; python_version >= \"3.6\" in /home/m/mekadmini/.local/lib/python3.8/site-packages (from google-auth<3,>=1.6.3->tensorboard<2.13,>=2.12->tensorflow) (4.9)\n",
            "Requirement already satisfied: cachetools<6.0,>=2.0.0 in /home/m/mekadmini/.local/lib/python3.8/site-packages (from google-auth<3,>=1.6.3->tensorboard<2.13,>=2.12->tensorflow) (5.3.0)\n",
            "Requirement already satisfied: requests-oauthlib>=0.7.0 in /home/m/mekadmini/.local/lib/python3.8/site-packages (from google-auth-oauthlib<1.1,>=0.5->tensorboard<2.13,>=2.12->tensorflow) (1.3.1)\n",
            "Requirement already satisfied: MarkupSafe>=2.1.1 in /home/m/mekadmini/.local/lib/python3.8/site-packages (from werkzeug>=1.0.1->tensorboard<2.13,>=2.12->tensorflow) (2.1.2)\n",
            "Requirement already satisfied: pyasn1<0.5.0,>=0.4.6 in /home/m/mekadmini/.local/lib/python3.8/site-packages (from pyasn1-modules>=0.2.1->google-auth<3,>=1.6.3->tensorboard<2.13,>=2.12->tensorflow) (0.4.8)\n",
            "Requirement already satisfied: oauthlib>=3.0.0 in /usr/lib/python3/dist-packages (from requests-oauthlib>=0.7.0->google-auth-oauthlib<1.1,>=0.5->tensorboard<2.13,>=2.12->tensorflow) (3.1.0)\n",
            "Note: you may need to restart the kernel to use updated packages.\n",
            "Requirement already up-to-date: pandas in /home/m/mekadmini/.local/lib/python3.8/site-packages (2.0.0)\n",
            "Collecting numpy\n",
            "  Using cached numpy-1.24.2-cp38-cp38-manylinux_2_17_x86_64.manylinux2014_x86_64.whl (17.3 MB)\n",
            "Requirement already up-to-date: sklearn in /home/m/mekadmini/.local/lib/python3.8/site-packages (0.0.post1)\n",
            "Requirement already satisfied, skipping upgrade: python-dateutil>=2.8.2 in /home/m/mekadmini/.local/lib/python3.8/site-packages (from pandas) (2.8.2)\n",
            "Requirement already satisfied, skipping upgrade: tzdata>=2022.1 in /home/m/mekadmini/.local/lib/python3.8/site-packages (from pandas) (2023.3)\n",
            "Requirement already satisfied, skipping upgrade: pytz>=2020.1 in /home/m/mekadmini/.local/lib/python3.8/site-packages (from pandas) (2023.3)\n",
            "Requirement already satisfied, skipping upgrade: six>=1.5 in /usr/lib/python3/dist-packages (from python-dateutil>=2.8.2->pandas) (1.14.0)\n",
            "\u001b[31mERROR: tensorflow 2.12.0 has requirement numpy<1.24,>=1.22, but you'll have numpy 1.24.2 which is incompatible.\u001b[0m\n",
            "Installing collected packages: numpy\n",
            "  Attempting uninstall: numpy\n",
            "    Found existing installation: numpy 1.23.5\n",
            "    Uninstalling numpy-1.23.5:\n",
            "      Successfully uninstalled numpy-1.23.5\n",
            "\u001b[31mERROR: Could not install packages due to an EnvironmentError: [Errno 16] Device or resource busy: '.nfs000000000f3b28c1000000d5'\n",
            "\u001b[0m\n",
            "Note: you may need to restart the kernel to use updated packages.\n"
          ]
        }
      ],
      "source": [
        "%pip install tensorflow tensorflow_hub tensorflow_text\n",
        "%pip install --upgrade pandas numpy sklearn"
      ]
    },
    {
      "cell_type": "code",
      "execution_count": 19,
      "metadata": {
        "id": "x24woaykZOfH"
      },
      "outputs": [],
      "source": [
        "import os\n",
        "\n",
        "import tensorflow as tf\n",
        "import tensorflow_hub as hub\n",
        "import tensorflow_text as text\n",
        "\n",
        "import pandas as pd\n",
        "import numpy as np\n",
        "from sklearn.metrics import confusion_matrix\n",
        "\n",
        "import pickle"
      ]
    },
    {
      "cell_type": "code",
      "execution_count": 20,
      "metadata": {
        "id": "SVe_rYIVZOfI"
      },
      "outputs": [],
      "source": [
        "model_dir = 'saved_models/small_bert/bert_en_uncased_L-2_H-128_A-2/sigmoid/Adam/4-epochs/model_2023-04-04_21-54-19'"
      ]
    },
    {
      "cell_type": "code",
      "execution_count": 21,
      "metadata": {
        "id": "iP6bTzN3ZOfJ"
      },
      "outputs": [],
      "source": [
        "with open(os.path.join(model_dir, 'testing_data.pickle'), 'rb') as f:\n",
        "    loaded_obj = pickle.load(f)\n",
        "\n",
        "x_train, x_test, y_train, y_test = loaded_obj.values()"
      ]
    },
    {
      "cell_type": "code",
      "execution_count": 22,
      "metadata": {
        "id": "43wceAxtZOfK"
      },
      "outputs": [
        {
          "data": {
            "text/plain": [
              "3833                                                  Ok.\n",
              "2910    URGENT! Your Mobile number has been awarded wi...\n",
              "2084    you are sweet as well, princess. Please tell m...\n",
              "473     Nothing. I meant that once the money enters yo...\n",
              "4277             Can you please send me my aunty's number\n",
              "Name: text, dtype: object"
            ]
          },
          "execution_count": 22,
          "metadata": {},
          "output_type": "execute_result"
        }
      ],
      "source": [
        "x_test.sample(5)"
      ]
    },
    {
      "cell_type": "code",
      "execution_count": 23,
      "metadata": {
        "id": "gHUYN01AZOfK"
      },
      "outputs": [],
      "source": [
        "model = tf.keras.models.load_model(model_dir)"
      ]
    },
    {
      "cell_type": "code",
      "execution_count": 24,
      "metadata": {
        "id": "KifAcSmNZOfL"
      },
      "outputs": [
        {
          "name": "stdout",
          "output_type": "stream",
          "text": [
            "Model: \"model\"\n",
            "__________________________________________________________________________________________________\n",
            " Layer (type)                   Output Shape         Param #     Connected to                     \n",
            "==================================================================================================\n",
            " text (InputLayer)              [(None,)]            0           []                               \n",
            "                                                                                                  \n",
            " preprocessing (KerasLayer)     {'input_type_ids':   0           ['text[0][0]']                   \n",
            "                                (None, 128),                                                      \n",
            "                                 'input_mask': (Non                                               \n",
            "                                e, 128),                                                          \n",
            "                                 'input_word_ids':                                                \n",
            "                                (None, 128)}                                                      \n",
            "                                                                                                  \n",
            " BERT_encoder (KerasLayer)      {'pooled_output': (  4385921     ['preprocessing[0][0]',          \n",
            "                                None, 128),                       'preprocessing[0][1]',          \n",
            "                                 'sequence_output':               'preprocessing[0][2]']          \n",
            "                                 (None, 128, 128),                                                \n",
            "                                 'encoder_outputs':                                               \n",
            "                                 [(None, 128, 128),                                               \n",
            "                                 (None, 128, 128)],                                               \n",
            "                                 'default': (None,                                                \n",
            "                                128)}                                                             \n",
            "                                                                                                  \n",
            " dropout (Dropout)              (None, 128)          0           ['BERT_encoder[0][3]']           \n",
            "                                                                                                  \n",
            " classifier (Dense)             (None, 1)            129         ['dropout[0][0]']                \n",
            "                                                                                                  \n",
            "==================================================================================================\n",
            "Total params: 4,386,050\n",
            "Trainable params: 4,386,049\n",
            "Non-trainable params: 1\n",
            "__________________________________________________________________________________________________\n"
          ]
        }
      ],
      "source": [
        "model.summary()"
      ]
    },
    {
      "cell_type": "code",
      "execution_count": 25,
      "metadata": {
        "id": "u-7eMPJwZOfM"
      },
      "outputs": [
        {
          "name": "stdout",
          "output_type": "stream",
          "text": [
            "35/35 [==============================] - 4s 106ms/step - loss: 0.0449 - binary_accuracy: 0.9919 - precision: 1.0000 - recall: 0.9396\n"
          ]
        }
      ],
      "source": [
        "test_loss, test_acc, test_prec, test_recall = model.evaluate(x_test, y_test)"
      ]
    },
    {
      "cell_type": "code",
      "execution_count": 26,
      "metadata": {
        "id": "e5pnvBeibUXZ"
      },
      "outputs": [
        {
          "name": "stdout",
          "output_type": "stream",
          "text": [
            "35/35 [==============================] - 3s 80ms/step\n",
            "[[9.9943429e-01]\n",
            " [3.5526551e-04]\n",
            " [4.3583740e-04]\n",
            " ...\n",
            " [3.1490598e-04]\n",
            " [3.2631008e-04]\n",
            " [3.0850535e-04]]\n"
          ]
        }
      ],
      "source": [
        "y_pred_dist = model.predict(x_test)\n",
        "print(y_pred_dist)"
      ]
    },
    {
      "cell_type": "code",
      "execution_count": 27,
      "metadata": {
        "id": "UD2nZ5NUZOfN"
      },
      "outputs": [
        {
          "name": "stdout",
          "output_type": "stream",
          "text": [
            "[[966   0]\n",
            " [  9 140]]\n"
          ]
        }
      ],
      "source": [
        "y_pred = np.vectorize(lambda x: 1 if x > 0.5 else 0)(y_pred_dist)\n",
        "\n",
        "cm = confusion_matrix(y_test, y_pred)\n",
        "print(cm)\n"
      ]
    }
  ],
  "metadata": {
    "colab": {
      "provenance": []
    },
    "kernelspec": {
      "display_name": "aamlenv",
      "language": "python",
      "name": "python3"
    },
    "language_info": {
      "codemirror_mode": {
        "name": "ipython",
        "version": 3
      },
      "file_extension": ".py",
      "mimetype": "text/x-python",
      "name": "python",
      "nbconvert_exporter": "python",
      "pygments_lexer": "ipython3",
      "version": "3.8.10"
    },
    "orig_nbformat": 4,
    "vscode": {
      "interpreter": {
        "hash": "25543acf24c55308a72579c9a72d64ccffdbefceab43efd325c6ad21cdc8448f"
      }
    }
  },
  "nbformat": 4,
  "nbformat_minor": 0
}
